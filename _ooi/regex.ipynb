{
 "cells": [
  {
   "cell_type": "code",
   "execution_count": 1,
   "id": "2b103691",
   "metadata": {},
   "outputs": [],
   "source": [
    "data =  {'requestUUID': '190cea45-cb90-48f0-965a-dd091d1536c5',\n",
    " 'outputURL': 'https://opendap.oceanobservatories.org/thredds/catalog/ooi/cstern@ldeo.columbia.edu/20210623T183800175Z-CP04OSSM-SBD11-06-METBKA000-telemetered-metbk_a_dcl_instrument/catalog.html',\n",
    " 'allURLs': ['https://opendap.oceanobservatories.org/thredds/catalog/ooi/cstern@ldeo.columbia.edu/20210623T183800175Z-CP04OSSM-SBD11-06-METBKA000-telemetered-metbk_a_dcl_instrument/catalog.html',\n",
    "  'https://opendap.oceanobservatories.org/async_results/cstern@ldeo.columbia.edu/20210623T183800175Z-CP04OSSM-SBD11-06-METBKA000-telemetered-metbk_a_dcl_instrument'],\n",
    " 'sizeCalculation': 60326684,\n",
    " 'timeCalculation': 60,\n",
    " 'numberOfSubJobs': 14}"
   ]
  },
  {
   "cell_type": "code",
   "execution_count": 2,
   "id": "993b4cb1",
   "metadata": {},
   "outputs": [],
   "source": [
    "url_base = data['allURLs'][1]"
   ]
  },
  {
   "cell_type": "code",
   "execution_count": 3,
   "id": "b34d7db4",
   "metadata": {},
   "outputs": [],
   "source": [
    "import requests\n",
    "import re"
   ]
  },
  {
   "cell_type": "code",
   "execution_count": 4,
   "id": "460bdbc2",
   "metadata": {},
   "outputs": [],
   "source": [
    "datasets = requests.get(url_base).text\n",
    "urls = re.findall(r'href=[\\'\"]?([^\\'\" >]+)', datasets)"
   ]
  },
  {
   "cell_type": "code",
   "execution_count": 5,
   "id": "df617359",
   "metadata": {},
   "outputs": [],
   "source": [
    "ds_urls = [\n",
    "    url_base + \"/\" + u for u in urls \n",
    "    if bool(re.search(r\".*?.nc$\", u)) == True\n",
    "    and \"VELPTA\" not in u\n",
    "]"
   ]
  },
  {
   "cell_type": "code",
   "execution_count": 6,
   "id": "907a427e",
   "metadata": {},
   "outputs": [
    {
     "data": {
      "text/plain": [
       "['https://opendap.oceanobservatories.org/async_results/cstern@ldeo.columbia.edu/20210623T183800175Z-CP04OSSM-SBD11-06-METBKA000-telemetered-metbk_a_dcl_instrument/deployment0003_CP04OSSM-SBD11-06-METBKA000-telemetered-metbk_a_dcl_instrument_20160101T000102.577000-20160513T150947.552000.nc',\n",
       " 'https://opendap.oceanobservatories.org/async_results/cstern@ldeo.columbia.edu/20210623T183800175Z-CP04OSSM-SBD11-06-METBKA000-telemetered-metbk_a_dcl_instrument/deployment0004_CP04OSSM-SBD11-06-METBKA000-telemetered-metbk_a_dcl_instrument_20160527T155046.777000-20161012T150931.977000.nc',\n",
       " 'https://opendap.oceanobservatories.org/async_results/cstern@ldeo.columbia.edu/20210623T183800175Z-CP04OSSM-SBD11-06-METBKA000-telemetered-metbk_a_dcl_instrument/deployment0005_CP04OSSM-SBD11-06-METBKA000-telemetered-metbk_a_dcl_instrument_20161012T142641.906000-20161231T235909.571000.nc']"
      ]
     },
     "execution_count": 6,
     "metadata": {},
     "output_type": "execute_result"
    }
   ],
   "source": [
    "ds_urls"
   ]
  },
  {
   "cell_type": "code",
   "execution_count": 15,
   "id": "ab151c7b",
   "metadata": {},
   "outputs": [
    {
     "data": {
      "text/plain": [
       "['_20160101T000102.577000-20160513T150947.552000.nc',\n",
       " '_20160527T155046.777000-20161012T150931.977000.nc',\n",
       " '_20161012T142641.906000-20161231T235909.571000.nc']"
      ]
     },
     "execution_count": 15,
     "metadata": {},
     "output_type": "execute_result"
    }
   ],
   "source": [
    "[u[238:] for u in ds_urls]"
   ]
  },
  {
   "cell_type": "code",
   "execution_count": 7,
   "id": "a67a90e2",
   "metadata": {},
   "outputs": [
    {
     "name": "stdout",
     "output_type": "stream",
     "text": [
      "zsh:1: command not found: wget\r\n"
     ]
    }
   ],
   "source": [
    "!wget \\\n",
    "https://opendap.oceanobservatories.org/async_results/cstern@ldeo.columbia.edu/20210623T183800175Z-CP04OSSM-SBD11-06-METBKA000-telemetered-metbk_a_dcl_instrument/deployment0003_CP04OSSM-SBD11-06-METBKA000-telemetered-metbk_a_dcl_instrument_20160101T000102.577000-20160513T150947.552000.nc"
   ]
  },
  {
   "cell_type": "code",
   "execution_count": 54,
   "id": "1f0a6aa7",
   "metadata": {},
   "outputs": [
    {
     "ename": "OSError",
     "evalue": "[Errno -90] NetCDF: file not found: b'https://opendap.oceanobservatories.org/async_results/cstern@ldeo.columbia.edu/20210623T183800175Z-CP04OSSM-SBD11-06-METBKA000-telemetered-metbk_a_dcl_instrument/deployment0003_CP04OSSM-SBD11-06-METBKA000-telemetered-metbk_a_dcl_instrument_20160101T000102.577000-20160513T150947.552000.nc'",
     "output_type": "error",
     "traceback": [
      "\u001b[0;31m---------------------------------------------------------------------------\u001b[0m",
      "\u001b[0;31mOSError\u001b[0m                                   Traceback (most recent call last)",
      "\u001b[0;32m<ipython-input-54-e7976b40b4b1>\u001b[0m in \u001b[0;36m<module>\u001b[0;34m\u001b[0m\n\u001b[1;32m      1\u001b[0m \u001b[0;32mimport\u001b[0m \u001b[0mnetCDF4\u001b[0m\u001b[0;34m\u001b[0m\u001b[0;34m\u001b[0m\u001b[0m\n\u001b[0;32m----> 2\u001b[0;31m \u001b[0mds\u001b[0m \u001b[0;34m=\u001b[0m \u001b[0mnetCDF4\u001b[0m\u001b[0;34m.\u001b[0m\u001b[0mDataset\u001b[0m\u001b[0;34m(\u001b[0m\u001b[0mds_urls\u001b[0m\u001b[0;34m[\u001b[0m\u001b[0;36m0\u001b[0m\u001b[0;34m]\u001b[0m\u001b[0;34m)\u001b[0m\u001b[0;34m\u001b[0m\u001b[0;34m\u001b[0m\u001b[0m\n\u001b[0m",
      "\u001b[0;32msrc/netCDF4/_netCDF4.pyx\u001b[0m in \u001b[0;36mnetCDF4._netCDF4.Dataset.__init__\u001b[0;34m()\u001b[0m\n",
      "\u001b[0;32msrc/netCDF4/_netCDF4.pyx\u001b[0m in \u001b[0;36mnetCDF4._netCDF4._ensure_nc_success\u001b[0;34m()\u001b[0m\n",
      "\u001b[0;31mOSError\u001b[0m: [Errno -90] NetCDF: file not found: b'https://opendap.oceanobservatories.org/async_results/cstern@ldeo.columbia.edu/20210623T183800175Z-CP04OSSM-SBD11-06-METBKA000-telemetered-metbk_a_dcl_instrument/deployment0003_CP04OSSM-SBD11-06-METBKA000-telemetered-metbk_a_dcl_instrument_20160101T000102.577000-20160513T150947.552000.nc'"
     ]
    }
   ],
   "source": [
    "import netCDF4\n",
    "ds = netCDF4.Dataset(ds_urls[0])"
   ]
  },
  {
   "cell_type": "code",
   "execution_count": 53,
   "id": "442acf6e",
   "metadata": {},
   "outputs": [
    {
     "ename": "OSError",
     "evalue": "[Errno -90] NetCDF: file not found: b'https://opendap.oceanobservatories.org/async_results/cstern@ldeo.columbia.edu/20210623T183800175Z-CP04OSSM-SBD11-06-METBKA000-telemetered-metbk_a_dcl_instrument/deployment0003_CP04OSSM-SBD11-06-METBKA000-telemetered-metbk_a_dcl_instrument_20160101T000102.577000-20160513T150947.552000.nc'",
     "output_type": "error",
     "traceback": [
      "\u001b[0;31m---------------------------------------------------------------------------\u001b[0m",
      "\u001b[0;31mOSError\u001b[0m                                   Traceback (most recent call last)",
      "\u001b[0;32m<ipython-input-53-74e519154416>\u001b[0m in \u001b[0;36m<module>\u001b[0;34m\u001b[0m\n\u001b[1;32m      2\u001b[0m \u001b[0;32mimport\u001b[0m \u001b[0mnetCDF4\u001b[0m\u001b[0;34m\u001b[0m\u001b[0;34m\u001b[0m\u001b[0m\n\u001b[1;32m      3\u001b[0m \u001b[0;34m\u001b[0m\u001b[0m\n\u001b[0;32m----> 4\u001b[0;31m \u001b[0mds\u001b[0m \u001b[0;34m=\u001b[0m \u001b[0mxr\u001b[0m\u001b[0;34m.\u001b[0m\u001b[0mopen_dataset\u001b[0m\u001b[0;34m(\u001b[0m\u001b[0mnetCDF4\u001b[0m\u001b[0;34m.\u001b[0m\u001b[0mDataset\u001b[0m\u001b[0;34m(\u001b[0m\u001b[0mds_urls\u001b[0m\u001b[0;34m[\u001b[0m\u001b[0;36m0\u001b[0m\u001b[0;34m]\u001b[0m\u001b[0;34m)\u001b[0m\u001b[0;34m)\u001b[0m\u001b[0;34m\u001b[0m\u001b[0;34m\u001b[0m\u001b[0m\n\u001b[0m",
      "\u001b[0;32msrc/netCDF4/_netCDF4.pyx\u001b[0m in \u001b[0;36mnetCDF4._netCDF4.Dataset.__init__\u001b[0;34m()\u001b[0m\n",
      "\u001b[0;32msrc/netCDF4/_netCDF4.pyx\u001b[0m in \u001b[0;36mnetCDF4._netCDF4._ensure_nc_success\u001b[0;34m()\u001b[0m\n",
      "\u001b[0;31mOSError\u001b[0m: [Errno -90] NetCDF: file not found: b'https://opendap.oceanobservatories.org/async_results/cstern@ldeo.columbia.edu/20210623T183800175Z-CP04OSSM-SBD11-06-METBKA000-telemetered-metbk_a_dcl_instrument/deployment0003_CP04OSSM-SBD11-06-METBKA000-telemetered-metbk_a_dcl_instrument_20160101T000102.577000-20160513T150947.552000.nc'"
     ]
    }
   ],
   "source": [
    "import xarray as xr\n",
    "import netCDF4\n",
    "\n",
    "ds = xr.open_dataset(netCDF4.Dataset(ds_urls[0]))"
   ]
  },
  {
   "cell_type": "code",
   "execution_count": null,
   "id": "dd755d0d",
   "metadata": {},
   "outputs": [],
   "source": []
  }
 ],
 "metadata": {
  "kernelspec": {
   "display_name": "pangeo-forge3.8",
   "language": "python",
   "name": "pangeo-forge3.8"
  },
  "language_info": {
   "codemirror_mode": {
    "name": "ipython",
    "version": 3
   },
   "file_extension": ".py",
   "mimetype": "text/x-python",
   "name": "python",
   "nbconvert_exporter": "python",
   "pygments_lexer": "ipython3",
   "version": "3.8.8"
  }
 },
 "nbformat": 4,
 "nbformat_minor": 5
}
